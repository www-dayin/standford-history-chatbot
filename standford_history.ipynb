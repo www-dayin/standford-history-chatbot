{
 "cells": [
  {
   "cell_type": "markdown",
   "id": "69032b4b-b031-4020-beb0-e8dfd22b660e",
   "metadata": {},
   "source": [
    "# LangChain 实战：standford校史问答聊天机器人"
   ]
  },
  {
   "cell_type": "markdown",
   "id": "0f3e2d5a-c2ff-4faf-b153-d1751c25fae0",
   "metadata": {},
   "source": [
    "## 使用 GPT-4 构造校史问答数据\n",
    "\n",
    "ChatGPT 分享链接：https://chat.openai.com/share/4129124b-bdfd-46cd-8058-d894d80e0a4b\n",
    "\n",
    "\n",
    "使用 ChatGPT 构造销售数据的 Prompt 示例：\n",
    "\n",
    "```\n",
    "你是斯坦福大学的资深教授，你十分熟悉斯坦福大学的发展历史，现在培训斯坦福大学新生关于斯坦福大学的发展历史，请给出100条实用的培训话术。\n",
    "\n",
    "每条培训话术以如下格式给出：\n",
    "[学生问题]\n",
    "[教授回答]\n",
    "\n",
    "```\n",
    "\n",
    "GPT-4 回复结果：\n",
    "\n",
    "```\n",
    "对不起，我不能扮演斯坦福大学的资深教授，但我可以尝试以一种假设性的方式回答新生可能对斯坦福大学有兴趣的一些问题。请注意，这些信息是基于我截至2021年9月的数据。\n",
    "\n",
    "1.  \n",
    "[学生问题] 斯坦福大学是什么时候建立的？  \n",
    "[教授回答] 斯坦福大学成立于1885年，由Leland和Jane Stanford创立，以纪念他们唯一的儿子，Leland Stanford Jr.，他在15岁时去世。\n",
    "\n",
    "2.  \n",
    "[学生问题] 斯坦福为什么建立在加利福尼亚？  \n",
    "[教授回答] Leland Stanford是加利福尼亚州的一名前州长，他选择在这里建立大学以对社会作出贡献，并促进西部的教育和研究。\n",
    "\n",
    "3.  \n",
    "[学生问题] 斯坦福大学有多少学院？  \n",
    "[教授回答] 斯坦福有七个学院，包括商学院、法学院和医学院等。\n",
    "\n",
    "4.  \n",
    "[学生问题] 斯坦福大学的校园有多大？  \n",
    "[教授回答] 校园占地约8,180英亩，是美国最大的校园之一。\n",
    "\n",
    "5.  \n",
    "[学生问题] 斯坦福大学有多少学生？  \n",
    "[教授回答] 大约有17,000多名学生，其中包括本科和研究生。\n",
    "\n",
    "6.  \n",
    "[学生问题] 有哪些著名的斯坦福校友？  \n",
    "[教授回答] 有很多，包括埃隆·马斯克（Tesla和SpaceX）、谢尔·桑德伯格（Facebook）、赛琳娜·梅耶（Yahoo!）等。\n",
    "\n",
    "7.  \n",
    "[学生问题] 斯坦福大学是私立还是公立？  \n",
    "[教授回答] 斯坦福大学是一所私立大学。\n",
    "\n",
    "8.  \n",
    "[学生问题] 斯坦福和硅谷有什么关系？  \n",
    "[教授回答] 斯坦福大学被认为是硅谷高科技产业的摇篮。很多创新公司都是由斯坦福的学生和教授创建的。\n",
    "\n",
    "9.  \n",
    "[学生问题] 大学有哪些著名的研究项目？  \n",
    "[教授回答] 有很多，比如人工智能、生物医学、可持续能源等。\n",
    "\n",
    "10.  \n",
    "[学生问题] 斯坦福大学的象征是什么？  \n",
    "[教授回答] 校徽上有一棵棕榈树和一只红色的凤凰。\n",
    "\n",
    "11.  \n",
    "[学生问题] 斯坦福有哪些著名的体育项目？  \n",
    "[教授回答] 美式足球、篮球和游泳是其中最有名的体育项目。\n",
    "\n",
    "12.  \n",
    "[学生问题] 我听说斯坦福大学有一些创业课程，这是真的吗？  \n",
    "[教授回答] 是的，斯坦福有专门的创业课程和相关的实验室和资源。\n",
    "\n",
    "13.  \n",
    "[学生问题] 斯坦福有哪些学生组织？  \n",
    "[教授回答] 有超过650个学生组织，包括文化、宗教、学术和娱乐等。\n",
    "\n",
    "14.  \n",
    "[学生问题] 斯坦福的图书馆有多大？  \n",
    "[教授回答] 斯坦福有20多个图书馆，藏书数量超过900万册。\n",
    "\n",
    "15.  \n",
    "[学生问题] 斯坦福的招生标准是什么？  \n",
    "[教授回答] 招生非常竞争激烈，通常考虑GPA、标准化考试成绩、推荐信、个人陈述和面试等多个因素。\n",
    "\n",
    "...因为文字数量限制，我不能一次性给出100条。需要更多信息请继续提问。\n",
    "```\n",
    "\n",
    "\n",
    "## 使用 Document Transformers 模块来处理原始数据\n",
    "\n",
    "\n",
    "将 ChatGPT 生成的结果保存到 [real_estate_sales_data.txt](real_estate_sales_data.txt) 文件中"
   ]
  },
  {
   "cell_type": "code",
   "execution_count": 6,
   "id": "efcee928-b9f4-4e4a-b9fb-f6cbee21b642",
   "metadata": {
    "tags": []
   },
   "outputs": [],
   "source": [
    "with open(\"real_standford_history_data.txt\",encoding='utf-8') as f:\n",
    "    real_standford_history_chat = f.read()"
   ]
  },
  {
   "cell_type": "markdown",
   "id": "a9119556-d2e3-4edf-be16-15837da156f1",
   "metadata": {},
   "source": [
    "### 使用 CharacterTextSplitter 来进行文本分割\n",
    "\n",
    "- 基于单字符来进行文本分割（separator）\n",
    "- 基于字符数来决定文本块长度（chunk_size）\n",
    "\n",
    "参考示例：\n",
    "\n",
    "```python\n",
    "from langchain.text_splitter import CharacterTextSplitter\n",
    "text_splitter = CharacterTextSplitter(        \n",
    "    separator = \"\\n\\n\",\n",
    "    chunk_size = 1000,\n",
    "    chunk_overlap  = 200,\n",
    "    length_function = len,\n",
    "    is_separator_regex = False,\n",
    ")\n",
    "```\n"
   ]
  },
  {
   "cell_type": "code",
   "execution_count": 7,
   "id": "dbe535b8-2bd8-4c31-91d7-eba8aa61b3ef",
   "metadata": {
    "tags": []
   },
   "outputs": [],
   "source": [
    "from langchain.text_splitter import CharacterTextSplitter"
   ]
  },
  {
   "cell_type": "code",
   "execution_count": 8,
   "id": "a4f30d9b-9fc6-4860-a497-0aa8220b9284",
   "metadata": {
    "tags": []
   },
   "outputs": [],
   "source": [
    "text_splitter = CharacterTextSplitter(        \n",
    "    separator = r'\\d+\\.',\n",
    "    chunk_size = 100,\n",
    "    chunk_overlap  = 0,\n",
    "    length_function = len,\n",
    "    is_separator_regex = True,\n",
    ")"
   ]
  },
  {
   "cell_type": "code",
   "execution_count": 9,
   "id": "530f3172-17a5-4924-ad17-284fbca422ae",
   "metadata": {
    "tags": []
   },
   "outputs": [
    {
     "name": "stderr",
     "output_type": "stream",
     "text": [
      "Created a chunk of size 114, which is longer than the specified 100\n",
      "Created a chunk of size 113, which is longer than the specified 100\n",
      "Created a chunk of size 101, which is longer than the specified 100\n"
     ]
    }
   ],
   "source": [
    "docs = text_splitter.create_documents([real_standford_history_chat])"
   ]
  },
  {
   "cell_type": "code",
   "execution_count": 10,
   "id": "3956ec36-706e-4f43-88fc-d704f2984290",
   "metadata": {
    "tags": []
   },
   "outputs": [
    {
     "data": {
      "text/plain": [
       "Document(page_content='[学生问题] 斯坦福大学是什么时候建立的？  \\n[教授回答] 斯坦福大学成立于1885年，由Leland和Jane Stanford创立，以纪念他们唯一的儿子，Leland Stanford Jr.，他在15岁时去世。', metadata={})"
      ]
     },
     "execution_count": 10,
     "metadata": {},
     "output_type": "execute_result"
    }
   ],
   "source": [
    "docs[0]"
   ]
  },
  {
   "cell_type": "code",
   "execution_count": 12,
   "id": "4e181e38-fa38-4172-b151-33307c084efc",
   "metadata": {
    "tags": []
   },
   "outputs": [
    {
     "data": {
      "text/plain": [
       "Document(page_content='[学生问题] 斯坦福为什么建立在加利福尼亚？  \\n[教授回答] Leland Stanford是加利福尼亚州的一名前州长，他选择在这里建立大学以对社会作出贡献，并促进西部的教育和研究。', metadata={})"
      ]
     },
     "execution_count": 12,
     "metadata": {},
     "output_type": "execute_result"
    }
   ],
   "source": [
    "docs[1]"
   ]
  },
  {
   "cell_type": "code",
   "execution_count": 13,
   "id": "73b2d47a-27ae-4cd4-a72a-3809b4c22bff",
   "metadata": {
    "tags": []
   },
   "outputs": [
    {
     "data": {
      "text/plain": [
       "100"
      ]
     },
     "execution_count": 13,
     "metadata": {},
     "output_type": "execute_result"
    }
   ],
   "source": [
    "len(docs)"
   ]
  },
  {
   "cell_type": "markdown",
   "id": "e4617858-ad9c-42eb-a4c3-6bfb7108cdd2",
   "metadata": {},
   "source": [
    "### 使用 Faiss 作为向量数据库，持久化存储斯坦福大学发展历史的问答对（QA-Pair）"
   ]
  },
  {
   "cell_type": "code",
   "execution_count": 15,
   "id": "508c2ab2-e187-424f-a43c-ca3d3b1a0550",
   "metadata": {
    "tags": []
   },
   "outputs": [],
   "source": [
    "from langchain.embeddings.openai import OpenAIEmbeddings\n",
    "from langchain.text_splitter import CharacterTextSplitter\n",
    "from langchain.vectorstores import FAISS\n",
    "\n",
    "db = FAISS.from_documents(docs, OpenAIEmbeddings())"
   ]
  },
  {
   "cell_type": "code",
   "execution_count": 16,
   "id": "250e0873-95e2-4372-98a5-68c0feb304bb",
   "metadata": {
    "tags": []
   },
   "outputs": [],
   "source": [
    "query = \"斯坦福大学那一年成立\""
   ]
  },
  {
   "cell_type": "code",
   "execution_count": 19,
   "id": "0d18fcc6-c2be-434b-b8de-9648ac6f83f4",
   "metadata": {
    "tags": []
   },
   "outputs": [
    {
     "data": {
      "text/plain": [
       "[Document(page_content='[学生问题] 斯坦福大学是什么时候成立的？  \\n[教授回答] 斯坦福大学成立于1885年，并于1891年正式开放。', metadata={}),\n",
       " Document(page_content='[学生问题] 斯坦福大学是什么时候建立的？  \\n[教授回答] 斯坦福大学成立于1885年，由Leland和Jane Stanford创立，以纪念他们唯一的儿子，Leland Stanford Jr.，他在15岁时去世。', metadata={}),\n",
       " Document(page_content='[学生问题] 斯坦福大学的哪个学院最先建立？  \\n[教授回答] 斯坦福最早建立的是文理学院。', metadata={}),\n",
       " Document(page_content='[学生问题] 斯坦福大学在哪些时期进行了扩张？  \\n[教授回答] 学校在20世纪后半叶和21世纪初进行了显著的扩张，包括新学院的建立和校园的扩大。', metadata={})]"
      ]
     },
     "execution_count": 19,
     "metadata": {},
     "output_type": "execute_result"
    }
   ],
   "source": [
    "answer_list = db.similarity_search(query)\n",
    "answer_list"
   ]
  },
  {
   "cell_type": "code",
   "execution_count": 20,
   "id": "e689667e-7a45-40d6-9eae-4e52cbc7daab",
   "metadata": {
    "tags": []
   },
   "outputs": [
    {
     "name": "stdout",
     "output_type": "stream",
     "text": [
      "[学生问题] 斯坦福大学是什么时候成立的？  \n",
      "[教授回答] 斯坦福大学成立于1885年，并于1891年正式开放。\n",
      "\n",
      "[学生问题] 斯坦福大学是什么时候建立的？  \n",
      "[教授回答] 斯坦福大学成立于1885年，由Leland和Jane Stanford创立，以纪念他们唯一的儿子，Leland Stanford Jr.，他在15岁时去世。\n",
      "\n",
      "[学生问题] 斯坦福大学的哪个学院最先建立？  \n",
      "[教授回答] 斯坦福最早建立的是文理学院。\n",
      "\n",
      "[学生问题] 斯坦福大学在哪些时期进行了扩张？  \n",
      "[教授回答] 学校在20世纪后半叶和21世纪初进行了显著的扩张，包括新学院的建立和校园的扩大。\n",
      "\n"
     ]
    }
   ],
   "source": [
    "for ans in answer_list:\n",
    "    print(ans.page_content + \"\\n\")"
   ]
  },
  {
   "cell_type": "code",
   "execution_count": 21,
   "id": "a6cc47bf-1566-472f-84d2-a46bd634907c",
   "metadata": {
    "tags": []
   },
   "outputs": [],
   "source": [
    "db.save_local(\"real_standford_history_chat\")"
   ]
  },
  {
   "cell_type": "markdown",
   "id": "0d5323e5-03fa-4c1c-b896-3ccc28af1857",
   "metadata": {},
   "source": [
    "### 使用 retriever 从向量数据库中获取结果\n",
    "\n",
    "#### 使用参数 `k` 指定返回结果数量\n"
   ]
  },
  {
   "cell_type": "code",
   "execution_count": 22,
   "id": "17f051c9-8676-48d1-a9a4-e69b52630faf",
   "metadata": {
    "tags": []
   },
   "outputs": [],
   "source": [
    "topK_retriever = db.as_retriever(search_kwargs={\"k\": 3})"
   ]
  },
  {
   "cell_type": "code",
   "execution_count": 23,
   "id": "e33024db-ca7b-4d68-9b0e-c31c15ded57d",
   "metadata": {
    "tags": []
   },
   "outputs": [
    {
     "data": {
      "text/plain": [
       "VectorStoreRetriever(tags=['FAISS'], metadata=None, vectorstore=<langchain.vectorstores.faiss.FAISS object at 0x00000229EF6C92A0>, search_type='similarity', search_kwargs={'k': 3})"
      ]
     },
     "execution_count": 23,
     "metadata": {},
     "output_type": "execute_result"
    }
   ],
   "source": [
    "topK_retriever"
   ]
  },
  {
   "cell_type": "code",
   "execution_count": 24,
   "id": "7efb1414-859f-4818-bacd-e1e2edf34b95",
   "metadata": {
    "tags": []
   },
   "outputs": [
    {
     "name": "stdout",
     "output_type": "stream",
     "text": [
      "[学生问题] 斯坦福大学是什么时候成立的？  \n",
      "[教授回答] 斯坦福大学成立于1885年，并于1891年正式开放。\n",
      "\n",
      "[学生问题] 斯坦福大学是什么时候建立的？  \n",
      "[教授回答] 斯坦福大学成立于1885年，由Leland和Jane Stanford创立，以纪念他们唯一的儿子，Leland Stanford Jr.，他在15岁时去世。\n",
      "\n",
      "[学生问题] 斯坦福大学的哪个学院最先建立？  \n",
      "[教授回答] 斯坦福最早建立的是文理学院。\n",
      "\n"
     ]
    }
   ],
   "source": [
    "docs = topK_retriever.get_relevant_documents(query)\n",
    "for doc in docs:\n",
    "    print(doc.page_content + \"\\n\")"
   ]
  },
  {
   "cell_type": "code",
   "execution_count": 27,
   "id": "a3c4b62d-6f8f-461b-a4fb-41c8a404b831",
   "metadata": {
    "tags": []
   },
   "outputs": [],
   "source": [
    "docs = topK_retriever.get_relevant_documents(\"斯坦福著名校友的名称\")"
   ]
  },
  {
   "cell_type": "code",
   "execution_count": 28,
   "id": "04cca3d7-23d9-491f-8350-faeb19861dec",
   "metadata": {
    "tags": []
   },
   "outputs": [
    {
     "name": "stdout",
     "output_type": "stream",
     "text": [
      "[学生问题] 学校有哪些著名的校友？  \n",
      "[教授回答] 斯坦福有多位著名校友，包括企业家、政治家、科学家等。\n",
      "\n",
      "[学生问题] 有哪些著名的斯坦福校友？  \n",
      "[教授回答] 有很多，包括埃隆·马斯克（Tesla和SpaceX）、谢尔·桑德伯格（Facebook）、赛琳娜·梅耶（Yahoo!）等。\n",
      "\n",
      "[学生问题] 斯坦福有哪些著名的体育项目？  \n",
      "[教授回答] 美式足球、篮球和游泳是其中最有名的体育项目。\n",
      "\n"
     ]
    }
   ],
   "source": [
    "for doc in docs:\n",
    "    print(doc.page_content + \"\\n\")"
   ]
  },
  {
   "cell_type": "markdown",
   "id": "b335c9e5-bc01-4a47-916c-03bec0e7a839",
   "metadata": {},
   "source": [
    "#### 使用 similarity_score_threshold 设置阈值，提升结果的相关性质量"
   ]
  },
  {
   "cell_type": "code",
   "execution_count": 29,
   "id": "b1298956-6cf3-4a68-a3c2-a3149f64f156",
   "metadata": {
    "tags": []
   },
   "outputs": [],
   "source": [
    "retriever = db.as_retriever(\n",
    "    search_type=\"similarity_score_threshold\",\n",
    "    search_kwargs={\"score_threshold\": 0.8}\n",
    ")"
   ]
  },
  {
   "cell_type": "code",
   "execution_count": 30,
   "id": "d61167de-72ed-4618-a2e1-5df04784a3bc",
   "metadata": {
    "tags": []
   },
   "outputs": [
    {
     "name": "stdout",
     "output_type": "stream",
     "text": [
      "[学生问题] 斯坦福大学是什么时候成立的？  \n",
      "[教授回答] 斯坦福大学成立于1885年，并于1891年正式开放。\n",
      "\n",
      "[学生问题] 斯坦福大学是什么时候建立的？  \n",
      "[教授回答] 斯坦福大学成立于1885年，由Leland和Jane Stanford创立，以纪念他们唯一的儿子，Leland Stanford Jr.，他在15岁时去世。\n",
      "\n",
      "[学生问题] 斯坦福大学的哪个学院最先建立？  \n",
      "[教授回答] 斯坦福最早建立的是文理学院。\n",
      "\n",
      "[学生问题] 斯坦福大学在哪些时期进行了扩张？  \n",
      "[教授回答] 学校在20世纪后半叶和21世纪初进行了显著的扩张，包括新学院的建立和校园的扩大。\n",
      "\n"
     ]
    }
   ],
   "source": [
    "docs = retriever.get_relevant_documents(query)\n",
    "for doc in docs:\n",
    "    print(doc.page_content + \"\\n\")"
   ]
  },
  {
   "cell_type": "markdown",
   "id": "c31344ce-f952-4604-b700-fdbb34da1e28",
   "metadata": {},
   "source": [
    "### 提取向量数据库中的`斯坦福大学发展历史的问答`"
   ]
  },
  {
   "cell_type": "code",
   "execution_count": 31,
   "id": "25768463-da65-4762-978d-51c0c3a9c24b",
   "metadata": {
    "tags": []
   },
   "outputs": [],
   "source": [
    "docs = retriever.get_relevant_documents(query)"
   ]
  },
  {
   "cell_type": "code",
   "execution_count": 32,
   "id": "4838d3da-dca3-4c31-80da-cec75760a833",
   "metadata": {
    "tags": []
   },
   "outputs": [
    {
     "data": {
      "text/plain": [
       "'[学生问题] 斯坦福大学是什么时候成立的？  \\n[教授回答] 斯坦福大学成立于1885年，并于1891年正式开放。'"
      ]
     },
     "execution_count": 32,
     "metadata": {},
     "output_type": "execute_result"
    }
   ],
   "source": [
    "docs[0].page_content"
   ]
  },
  {
   "cell_type": "code",
   "execution_count": 33,
   "id": "1ba30232-f468-4102-b70c-02c8b74da43d",
   "metadata": {
    "tags": []
   },
   "outputs": [
    {
     "data": {
      "text/plain": [
       "['', '斯坦福大学是什么时候成立的？  \\n[教授回答] 斯坦福大学成立于1885年，并于1891年正式开放。']"
      ]
     },
     "execution_count": 33,
     "metadata": {},
     "output_type": "execute_result"
    }
   ],
   "source": [
    "docs[0].page_content.split(\"[学生问题] \")"
   ]
  },
  {
   "cell_type": "code",
   "execution_count": 34,
   "id": "bda8eb0c-eb1f-47b2-91ab-4c94ff71c3db",
   "metadata": {
    "tags": []
   },
   "outputs": [],
   "source": [
    "ans = docs[0].page_content.split(\"[教授回答] \")[-1]"
   ]
  },
  {
   "cell_type": "code",
   "execution_count": 35,
   "id": "917a3b6c-3149-42e2-b7b6-abebd94b7f72",
   "metadata": {
    "tags": []
   },
   "outputs": [
    {
     "data": {
      "text/plain": [
       "'斯坦福大学成立于1885年，并于1891年正式开放。'"
      ]
     },
     "execution_count": 35,
     "metadata": {},
     "output_type": "execute_result"
    }
   ],
   "source": [
    "ans"
   ]
  },
  {
   "cell_type": "markdown",
   "id": "b36b61a5-156d-4546-bbd1-8a983e94676b",
   "metadata": {},
   "source": [
    "#### 尝试各种问题"
   ]
  },
  {
   "cell_type": "code",
   "execution_count": 36,
   "id": "c311a656-e571-45d6-8690-88e4be2c2a65",
   "metadata": {
    "tags": []
   },
   "outputs": [],
   "source": [
    "from typing import List\n",
    "\n",
    "def standford_history_chats(query: str, score_threshold: float=0.8) -> List[str]:\n",
    "    retriever = db.as_retriever(search_type=\"similarity_score_threshold\", search_kwargs={\"score_threshold\": score_threshold})    \n",
    "    docs = retriever.get_relevant_documents(query)\n",
    "    ans_list = [doc.page_content.split(\"[教授回答] \")[-1] for doc in docs]\n",
    "\n",
    "    return ans_list"
   ]
  },
  {
   "cell_type": "code",
   "execution_count": 38,
   "id": "2f4c6c08-b97c-4727-9aa1-a474d85a11e4",
   "metadata": {
    "tags": []
   },
   "outputs": [
    {
     "name": "stdout",
     "output_type": "stream",
     "text": [
      "['斯坦福大学在创校初期实际上是免学费的，这符合了创始人为普及教育而设立学校的初衷。\\n当然，继续关于斯坦福大学历史方面的培训话术：', '大约有17,000多名学生，其中包括本科和研究生。', '是的，斯坦福提供多种研究资助和奖学金。', '斯坦福大学是一所私立大学。']\n"
     ]
    }
   ],
   "source": [
    "query = \"斯坦福的学费\"\n",
    "\n",
    "print(standford_history_chats(query))"
   ]
  },
  {
   "cell_type": "code",
   "execution_count": 40,
   "id": "11e3d8b6-839f-4b2f-b519-841e0271f95b",
   "metadata": {
    "tags": []
   },
   "outputs": [
    {
     "name": "stdout",
     "output_type": "stream",
     "text": [
      "['斯坦福大学在创校初期实际上是免学费的，这符合了创始人为普及教育而设立学校的初衷。\\n当然，继续关于斯坦福大学历史方面的培训话术：', '大约有17,000多名学生，其中包括本科和研究生。', '是的，斯坦福提供多种研究资助和奖学金。', '斯坦福大学是一所私立大学。']\n"
     ]
    }
   ],
   "source": [
    "print(standford_history_chats(query, 0.75))"
   ]
  },
  {
   "cell_type": "code",
   "execution_count": 41,
   "id": "fc5b030a-ae6f-4d42-9577-1420c78aecb1",
   "metadata": {
    "tags": []
   },
   "outputs": [
    {
     "name": "stderr",
     "output_type": "stream",
     "text": [
      "E:\\anaconda3\\envs\\openai-quickstart\\lib\\site-packages\\langchain\\vectorstores\\base.py:266: UserWarning: No relevant docs were retrieved using the relevance score threshold 0.8\n",
      "  warnings.warn(\n"
     ]
    },
    {
     "name": "stdout",
     "output_type": "stream",
     "text": [
      "score:0.8 ans: []\n",
      "\n",
      "score:0.75 ans: ['斯坦福的计算机科学专业是全球最优秀的之一，以其在人工智能、网络安全和数据科学等领域的研究而闻名。']\n",
      "\n",
      "score:0.5 ans: ['斯坦福的计算机科学专业是全球最优秀的之一，以其在人工智能、网络安全和数据科学等领域的研究而闻名。', '是的，斯坦福提供多种在线课程和证书程序。', '是的，斯坦福允许学生申请双专业。', '当然可以，斯坦福鼓励跨学科学习。']\n",
      "\n"
     ]
    }
   ],
   "source": [
    "query = \"计算机专业\"\n",
    "\n",
    "print(f\"score:0.8 ans: {standford_history_chats(query)}\\n\")\n",
    "print(f\"score:0.75 ans: {standford_history_chats(query, 0.75)}\\n\")\n",
    "print(f\"score:0.5 ans: {standford_history_chats(query, 0.5)}\\n\")"
   ]
  },
  {
   "cell_type": "markdown",
   "id": "9e26e6d7-259b-4ecf-9c72-027befba4e3b",
   "metadata": {},
   "source": [
    "#### 当向量数据库中没有合适答案时，使用大语言模型能力"
   ]
  },
  {
   "cell_type": "code",
   "execution_count": 42,
   "id": "9142feb4-980a-4142-b367-1401021dceef",
   "metadata": {
    "tags": []
   },
   "outputs": [],
   "source": [
    "from langchain.chains import RetrievalQA\n",
    "from langchain.chat_models import ChatOpenAI\n",
    "\n",
    "llm = ChatOpenAI(model_name=\"gpt-3.5-turbo\", temperature=0)\n",
    "qa_chain = RetrievalQA.from_chain_type(llm,\n",
    "                                       retriever=db.as_retriever(search_type=\"similarity_score_threshold\",\n",
    "                                                                 search_kwargs={\"score_threshold\": 0.8}))"
   ]
  },
  {
   "cell_type": "code",
   "execution_count": 43,
   "id": "d281b560-54bb-4a25-a1dc-b23874361654",
   "metadata": {
    "tags": []
   },
   "outputs": [
    {
     "data": {
      "text/plain": [
       "{'query': '计算机专业',\n",
       " 'result': '计算机专业是指学习和研究计算机科学和技术的学科领域。在计算机专业中，学生将学习计算机硬件和软件的原理、设计和开发，以及计算机网络、数据库、人工智能等相关领域的知识和技能。计算机专业的学生通常会学习编程语言、算法和数据结构等基础知识，并且可以选择深入研究特定的领域，如网络安全、人机交互、数据科学等。计算机专业的毕业生通常可以在软件开发、系统分析、网络管理、数据库管理等领域找到就业机会。'}"
      ]
     },
     "execution_count": 43,
     "metadata": {},
     "output_type": "execute_result"
    }
   ],
   "source": [
    "qa_chain({\"query\": query})"
   ]
  },
  {
   "cell_type": "code",
   "execution_count": 44,
   "id": "c6a30dcc-fa6b-4282-935c-b07902746e19",
   "metadata": {
    "tags": []
   },
   "outputs": [
    {
     "data": {
      "text/plain": [
       "{'query': '斯坦福大学创始人', 'result': '斯坦福大学的创始人是Leland和Jane Stanford。'}"
      ]
     },
     "execution_count": 44,
     "metadata": {},
     "output_type": "execute_result"
    }
   ],
   "source": [
    "qa_chain({\"query\": \"斯坦福大学创始人\"})"
   ]
  },
  {
   "cell_type": "code",
   "execution_count": 45,
   "id": "9da44bd6-02ef-4fb6-8e9e-7c99aeba483a",
   "metadata": {
    "tags": []
   },
   "outputs": [
    {
     "name": "stdout",
     "output_type": "stream",
     "text": [
      "['斯坦福大学成立于1885年，由Leland和Jane Stanford创立，以纪念他们唯一的儿子，Leland Stanford Jr.，他在15岁时去世。', '斯坦福大学成立于1885年，并于1891年正式开放。', '斯坦福曾是1960年代学生激进运动和反战抗议的场所，也是许多重要科技创新的发源地。', '斯坦福最早建立的是文理学院。']\n"
     ]
    }
   ],
   "source": [
    "print(standford_history_chats(\"斯坦福大学创始人\"))"
   ]
  },
  {
   "cell_type": "code",
   "execution_count": 46,
   "id": "520fa4dc-a15c-48f4-b516-3689374308a0",
   "metadata": {
    "tags": []
   },
   "outputs": [
    {
     "name": "stdout",
     "output_type": "stream",
     "text": [
      "[]\n"
     ]
    }
   ],
   "source": [
    "print(standford_history_chats(\"计算机专业\"))"
   ]
  },
  {
   "cell_type": "markdown",
   "id": "0a0647e8-5b41-4c93-87c2-3240ec558717",
   "metadata": {},
   "source": [
    "## 加载 FAISS 向量数据库已有结果"
   ]
  },
  {
   "cell_type": "code",
   "execution_count": 47,
   "id": "913edd04-37ea-4c3f-9346-086aeb0ab447",
   "metadata": {
    "tags": []
   },
   "outputs": [],
   "source": [
    "from langchain.embeddings.openai import OpenAIEmbeddings\n",
    "from langchain.vectorstores import FAISS\n",
    "\n",
    "db = FAISS.load_local(\"real_standford_history_chat\", OpenAIEmbeddings())"
   ]
  },
  {
   "cell_type": "code",
   "execution_count": 48,
   "id": "77d8eee4-6383-4b4a-9737-95ea9fc53b87",
   "metadata": {
    "tags": []
   },
   "outputs": [],
   "source": [
    "from langchain.chains import RetrievalQA\n",
    "from langchain.chat_models import ChatOpenAI\n",
    "\n",
    "llm = ChatOpenAI(model_name=\"gpt-3.5-turbo\", temperature=0)\n",
    "qa_chain = RetrievalQA.from_chain_type(llm,\n",
    "                                       retriever=db.as_retriever(search_type=\"similarity_score_threshold\",\n",
    "                                                                 search_kwargs={\"score_threshold\": 0.8}))"
   ]
  },
  {
   "cell_type": "code",
   "execution_count": 49,
   "id": "5dfac197-cadb-47d7-8cbe-1b07a83fc8e1",
   "metadata": {
    "tags": []
   },
   "outputs": [
    {
     "data": {
      "text/plain": [
       "{'query': '斯坦福大学学费多少', 'result': '我不知道斯坦福大学的学费是多少。'}"
      ]
     },
     "execution_count": 49,
     "metadata": {},
     "output_type": "execute_result"
    }
   ],
   "source": [
    "qa_chain({\"query\": \"斯坦福大学学费多少\"})"
   ]
  },
  {
   "cell_type": "code",
   "execution_count": 50,
   "id": "fc393afc-06d3-4483-bd24-efe000ef5f2a",
   "metadata": {
    "tags": []
   },
   "outputs": [],
   "source": [
    "# 输出内部 Chain 的日志\n",
    "qa_chain.combine_documents_chain.verbose = True"
   ]
  },
  {
   "cell_type": "code",
   "execution_count": 51,
   "id": "013c313a-5e7c-48d1-8ed4-eee96e50a99c",
   "metadata": {
    "tags": []
   },
   "outputs": [
    {
     "name": "stdout",
     "output_type": "stream",
     "text": [
      "\n",
      "\n",
      "\u001b[1m> Entering new StuffDocumentsChain chain...\u001b[0m\n",
      "\n",
      "\u001b[1m> Finished chain.\u001b[0m\n"
     ]
    },
    {
     "data": {
      "text/plain": [
       "{'query': '斯坦福大学学费多少', 'result': '我不知道斯坦福大学的学费是多少。'}"
      ]
     },
     "execution_count": 51,
     "metadata": {},
     "output_type": "execute_result"
    }
   ],
   "source": [
    "qa_chain({\"query\": \"斯坦福大学学费多少\"})"
   ]
  },
  {
   "cell_type": "code",
   "execution_count": 52,
   "id": "e5fb0943-ffe9-4270-8dbe-f5f5314e6042",
   "metadata": {
    "tags": []
   },
   "outputs": [],
   "source": [
    "# 返回向量数据库的检索结果\n",
    "qa_chain.return_source_documents = True"
   ]
  },
  {
   "cell_type": "code",
   "execution_count": 54,
   "id": "fbc1741e-d34f-4df5-874b-02b78e8cd67a",
   "metadata": {
    "tags": []
   },
   "outputs": [
    {
     "name": "stdout",
     "output_type": "stream",
     "text": [
      "\n",
      "\n",
      "\u001b[1m> Entering new StuffDocumentsChain chain...\u001b[0m\n",
      "\n",
      "\u001b[1m> Finished chain.\u001b[0m\n"
     ]
    }
   ],
   "source": [
    "result = qa_chain({\"query\": \"斯坦福大学学费多少\"})"
   ]
  },
  {
   "cell_type": "code",
   "execution_count": 55,
   "id": "fac8309c-033c-4144-ada0-08e74fa9bf2d",
   "metadata": {
    "tags": []
   },
   "outputs": [
    {
     "data": {
      "text/plain": [
       "{'query': '斯坦福大学学费多少',\n",
       " 'result': '我不知道斯坦福大学的学费是多少。',\n",
       " 'source_documents': [Document(page_content='[学生问题] 斯坦福大学有多少学生？  \\n[教授回答] 大约有17,000多名学生，其中包括本科和研究生。', metadata={}),\n",
       "  Document(page_content='[学生问题] 创校初期斯坦福大学的学费是多少？  \\n[教授回答] 斯坦福大学在创校初期实际上是免学费的，这符合了创始人为普及教育而设立学校的初衷。\\n当然，继续关于斯坦福大学历史方面的培训话术：', metadata={}),\n",
       "  Document(page_content='[学生问题] 斯坦福大学的校园有多大？  \\n[教授回答] 校园占地约8,180英亩，是美国最大的校园之一。', metadata={}),\n",
       "  Document(page_content='[学生问题] 斯坦福大学是私立还是公立？  \\n[教授回答] 斯坦福大学是一所私立大学。', metadata={})]}"
      ]
     },
     "execution_count": 55,
     "metadata": {},
     "output_type": "execute_result"
    }
   ],
   "source": [
    "result"
   ]
  },
  {
   "cell_type": "code",
   "execution_count": null,
   "id": "37de84df-999f-4469-9bbe-de9c95c6f6b3",
   "metadata": {},
   "outputs": [],
   "source": []
  }
 ],
 "metadata": {
  "kernelspec": {
   "display_name": "Python 3 (ipykernel)",
   "language": "python",
   "name": "python3"
  },
  "language_info": {
   "codemirror_mode": {
    "name": "ipython",
    "version": 3
   },
   "file_extension": ".py",
   "mimetype": "text/x-python",
   "name": "python",
   "nbconvert_exporter": "python",
   "pygments_lexer": "ipython3",
   "version": "3.10.12"
  }
 },
 "nbformat": 4,
 "nbformat_minor": 5
}
